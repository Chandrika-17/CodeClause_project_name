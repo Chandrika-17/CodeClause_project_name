{
 "cells": [
  {
   "cell_type": "markdown",
   "id": "c9f402e9",
   "metadata": {},
   "source": [
    "TASK 1 : STOCK MARKET PREDICTION."
   ]
  },
  {
   "cell_type": "code",
   "execution_count": 2,
   "id": "d0130a71",
   "metadata": {},
   "outputs": [],
   "source": [
    "import numpy as np\n",
    "import pandas as pd\n",
    "import matplotlib.pyplot as plt "
   ]
  },
  {
   "cell_type": "code",
   "execution_count": 1,
   "id": "f959a01d",
   "metadata": {},
   "outputs": [
    {
     "name": "stdout",
     "output_type": "stream",
     "text": [
      "Requirement already satisfied: keras in c:\\users\\dell\\anaconda3\\lib\\site-packages (2.12.0)\n",
      "Note: you may need to restart the kernel to use updated packages.\n"
     ]
    }
   ],
   "source": [
    "pip install keras "
   ]
  },
  {
   "cell_type": "code",
   "execution_count": 3,
   "id": "d193d1ef",
   "metadata": {
    "scrolled": true
   },
   "outputs": [
    {
     "name": "stdout",
     "output_type": "stream",
     "text": [
      "Requirement already satisfied: tensorflow in c:\\users\\dell\\anaconda3\\lib\\site-packages (2.12.0)\n",
      "Requirement already satisfied: tensorflow-intel==2.12.0 in c:\\users\\dell\\anaconda3\\lib\\site-packages (from tensorflow) (2.12.0)\n",
      "Requirement already satisfied: absl-py>=1.0.0 in c:\\users\\dell\\anaconda3\\lib\\site-packages (from tensorflow-intel==2.12.0->tensorflow) (1.4.0)\n",
      "Requirement already satisfied: astunparse>=1.6.0 in c:\\users\\dell\\anaconda3\\lib\\site-packages (from tensorflow-intel==2.12.0->tensorflow) (1.6.3)\n",
      "Requirement already satisfied: flatbuffers>=2.0 in c:\\users\\dell\\anaconda3\\lib\\site-packages (from tensorflow-intel==2.12.0->tensorflow) (23.3.3)\n",
      "Requirement already satisfied: gast<=0.4.0,>=0.2.1 in c:\\users\\dell\\anaconda3\\lib\\site-packages (from tensorflow-intel==2.12.0->tensorflow) (0.4.0)\n",
      "Requirement already satisfied: google-pasta>=0.1.1 in c:\\users\\dell\\anaconda3\\lib\\site-packages (from tensorflow-intel==2.12.0->tensorflow) (0.2.0)\n",
      "Requirement already satisfied: h5py>=2.9.0 in c:\\users\\dell\\anaconda3\\lib\\site-packages (from tensorflow-intel==2.12.0->tensorflow) (3.6.0)\n",
      "Requirement already satisfied: jax>=0.3.15 in c:\\users\\dell\\anaconda3\\lib\\site-packages (from tensorflow-intel==2.12.0->tensorflow) (0.4.8)\n",
      "Requirement already satisfied: libclang>=13.0.0 in c:\\users\\dell\\anaconda3\\lib\\site-packages (from tensorflow-intel==2.12.0->tensorflow) (16.0.0)\n",
      "Requirement already satisfied: numpy<1.24,>=1.22 in c:\\users\\dell\\anaconda3\\lib\\site-packages (from tensorflow-intel==2.12.0->tensorflow) (1.22.4)\n",
      "Requirement already satisfied: opt-einsum>=2.3.2 in c:\\users\\dell\\anaconda3\\lib\\site-packages (from tensorflow-intel==2.12.0->tensorflow) (3.3.0)\n",
      "Requirement already satisfied: packaging in c:\\users\\dell\\anaconda3\\lib\\site-packages (from tensorflow-intel==2.12.0->tensorflow) (21.3)\n",
      "Requirement already satisfied: protobuf!=4.21.0,!=4.21.1,!=4.21.2,!=4.21.3,!=4.21.4,!=4.21.5,<5.0.0dev,>=3.20.3 in c:\\users\\dell\\anaconda3\\lib\\site-packages (from tensorflow-intel==2.12.0->tensorflow) (4.22.3)\n",
      "Requirement already satisfied: setuptools in c:\\users\\dell\\anaconda3\\lib\\site-packages (from tensorflow-intel==2.12.0->tensorflow) (61.2.0)\n",
      "Requirement already satisfied: six>=1.12.0 in c:\\users\\dell\\anaconda3\\lib\\site-packages (from tensorflow-intel==2.12.0->tensorflow) (1.16.0)\n",
      "Requirement already satisfied: termcolor>=1.1.0 in c:\\users\\dell\\anaconda3\\lib\\site-packages (from tensorflow-intel==2.12.0->tensorflow) (2.2.0)\n",
      "Requirement already satisfied: typing-extensions>=3.6.6 in c:\\users\\dell\\anaconda3\\lib\\site-packages (from tensorflow-intel==2.12.0->tensorflow) (4.1.1)\n",
      "Requirement already satisfied: wrapt<1.15,>=1.11.0 in c:\\users\\dell\\anaconda3\\lib\\site-packages (from tensorflow-intel==2.12.0->tensorflow) (1.12.1)\n",
      "Requirement already satisfied: grpcio<2.0,>=1.24.3 in c:\\users\\dell\\anaconda3\\lib\\site-packages (from tensorflow-intel==2.12.0->tensorflow) (1.54.0)\n",
      "Requirement already satisfied: tensorboard<2.13,>=2.12 in c:\\users\\dell\\anaconda3\\lib\\site-packages (from tensorflow-intel==2.12.0->tensorflow) (2.12.2)\n",
      "Requirement already satisfied: tensorflow-estimator<2.13,>=2.12.0 in c:\\users\\dell\\anaconda3\\lib\\site-packages (from tensorflow-intel==2.12.0->tensorflow) (2.12.0)\n",
      "Requirement already satisfied: keras<2.13,>=2.12.0 in c:\\users\\dell\\anaconda3\\lib\\site-packages (from tensorflow-intel==2.12.0->tensorflow) (2.12.0)\n",
      "Requirement already satisfied: tensorflow-io-gcs-filesystem>=0.23.1 in c:\\users\\dell\\anaconda3\\lib\\site-packages (from tensorflow-intel==2.12.0->tensorflow) (0.31.0)\n",
      "Requirement already satisfied: wheel<1.0,>=0.23.0 in c:\\users\\dell\\anaconda3\\lib\\site-packages (from astunparse>=1.6.0->tensorflow-intel==2.12.0->tensorflow) (0.37.1)\n",
      "Requirement already satisfied: ml-dtypes>=0.0.3 in c:\\users\\dell\\anaconda3\\lib\\site-packages (from jax>=0.3.15->tensorflow-intel==2.12.0->tensorflow) (0.1.0)\n",
      "Requirement already satisfied: scipy>=1.7 in c:\\users\\dell\\anaconda3\\lib\\site-packages (from jax>=0.3.15->tensorflow-intel==2.12.0->tensorflow) (1.7.3)\n",
      "Requirement already satisfied: google-auth<3,>=1.6.3 in c:\\users\\dell\\anaconda3\\lib\\site-packages (from tensorboard<2.13,>=2.12->tensorflow-intel==2.12.0->tensorflow) (2.17.3)\n",
      "Requirement already satisfied: google-auth-oauthlib<1.1,>=0.5 in c:\\users\\dell\\anaconda3\\lib\\site-packages (from tensorboard<2.13,>=2.12->tensorflow-intel==2.12.0->tensorflow) (1.0.0)\n",
      "Requirement already satisfied: markdown>=2.6.8 in c:\\users\\dell\\anaconda3\\lib\\site-packages (from tensorboard<2.13,>=2.12->tensorflow-intel==2.12.0->tensorflow) (3.3.4)\n",
      "Requirement already satisfied: requests<3,>=2.21.0 in c:\\users\\dell\\anaconda3\\lib\\site-packages (from tensorboard<2.13,>=2.12->tensorflow-intel==2.12.0->tensorflow) (2.27.1)\n",
      "Requirement already satisfied: tensorboard-data-server<0.8.0,>=0.7.0 in c:\\users\\dell\\anaconda3\\lib\\site-packages (from tensorboard<2.13,>=2.12->tensorflow-intel==2.12.0->tensorflow) (0.7.0)\n",
      "Requirement already satisfied: tensorboard-plugin-wit>=1.6.0 in c:\\users\\dell\\anaconda3\\lib\\site-packages (from tensorboard<2.13,>=2.12->tensorflow-intel==2.12.0->tensorflow) (1.8.1)\n",
      "Requirement already satisfied: werkzeug>=1.0.1 in c:\\users\\dell\\anaconda3\\lib\\site-packages (from tensorboard<2.13,>=2.12->tensorflow-intel==2.12.0->tensorflow) (2.0.3)\n",
      "Requirement already satisfied: pyparsing!=3.0.5,>=2.0.2 in c:\\users\\dell\\anaconda3\\lib\\site-packages (from packaging->tensorflow-intel==2.12.0->tensorflow) (3.0.4)\n",
      "Requirement already satisfied: cachetools<6.0,>=2.0.0 in c:\\users\\dell\\anaconda3\\lib\\site-packages (from google-auth<3,>=1.6.3->tensorboard<2.13,>=2.12->tensorflow-intel==2.12.0->tensorflow) (4.2.2)\n",
      "Requirement already satisfied: pyasn1-modules>=0.2.1 in c:\\users\\dell\\anaconda3\\lib\\site-packages (from google-auth<3,>=1.6.3->tensorboard<2.13,>=2.12->tensorflow-intel==2.12.0->tensorflow) (0.2.8)\n",
      "Requirement already satisfied: rsa<5,>=3.1.4 in c:\\users\\dell\\anaconda3\\lib\\site-packages (from google-auth<3,>=1.6.3->tensorboard<2.13,>=2.12->tensorflow-intel==2.12.0->tensorflow) (4.7.2)\n",
      "Requirement already satisfied: requests-oauthlib>=0.7.0 in c:\\users\\dell\\anaconda3\\lib\\site-packages (from google-auth-oauthlib<1.1,>=0.5->tensorboard<2.13,>=2.12->tensorflow-intel==2.12.0->tensorflow) (1.3.1)\n",
      "Requirement already satisfied: urllib3<1.27,>=1.21.1 in c:\\users\\dell\\anaconda3\\lib\\site-packages (from requests<3,>=2.21.0->tensorboard<2.13,>=2.12->tensorflow-intel==2.12.0->tensorflow) (1.26.9)\n",
      "Requirement already satisfied: certifi>=2017.4.17 in c:\\users\\dell\\anaconda3\\lib\\site-packages (from requests<3,>=2.21.0->tensorboard<2.13,>=2.12->tensorflow-intel==2.12.0->tensorflow) (2021.10.8)\n",
      "Requirement already satisfied: charset-normalizer~=2.0.0 in c:\\users\\dell\\anaconda3\\lib\\site-packages (from requests<3,>=2.21.0->tensorboard<2.13,>=2.12->tensorflow-intel==2.12.0->tensorflow) (2.0.4)\n",
      "Requirement already satisfied: idna<4,>=2.5 in c:\\users\\dell\\anaconda3\\lib\\site-packages (from requests<3,>=2.21.0->tensorboard<2.13,>=2.12->tensorflow-intel==2.12.0->tensorflow) (3.3)\n",
      "Requirement already satisfied: pyasn1<0.5.0,>=0.4.6 in c:\\users\\dell\\anaconda3\\lib\\site-packages (from pyasn1-modules>=0.2.1->google-auth<3,>=1.6.3->tensorboard<2.13,>=2.12->tensorflow-intel==2.12.0->tensorflow) (0.4.8)\n",
      "Requirement already satisfied: oauthlib>=3.0.0 in c:\\users\\dell\\anaconda3\\lib\\site-packages (from requests-oauthlib>=0.7.0->google-auth-oauthlib<1.1,>=0.5->tensorboard<2.13,>=2.12->tensorflow-intel==2.12.0->tensorflow) (3.2.2)\n",
      "Note: you may need to restart the kernel to use updated packages.\n"
     ]
    }
   ],
   "source": [
    "pip install tensorflow"
   ]
  },
  {
   "cell_type": "code",
   "execution_count": 4,
   "id": "a517b829",
   "metadata": {},
   "outputs": [],
   "source": [
    "from sklearn.preprocessing import MinMaxScaler\n",
    "from keras.models import Sequential\n",
    "from keras.layers import Dense,LSTM,Dropout"
   ]
  },
  {
   "cell_type": "code",
   "execution_count": 5,
   "id": "d662eae7",
   "metadata": {},
   "outputs": [
    {
     "data": {
      "text/html": [
       "<div>\n",
       "<style scoped>\n",
       "    .dataframe tbody tr th:only-of-type {\n",
       "        vertical-align: middle;\n",
       "    }\n",
       "\n",
       "    .dataframe tbody tr th {\n",
       "        vertical-align: top;\n",
       "    }\n",
       "\n",
       "    .dataframe thead th {\n",
       "        text-align: right;\n",
       "    }\n",
       "</style>\n",
       "<table border=\"1\" class=\"dataframe\">\n",
       "  <thead>\n",
       "    <tr style=\"text-align: right;\">\n",
       "      <th></th>\n",
       "      <th>Date</th>\n",
       "      <th>Open</th>\n",
       "      <th>High</th>\n",
       "      <th>Low</th>\n",
       "      <th>Close</th>\n",
       "      <th>Volume</th>\n",
       "    </tr>\n",
       "  </thead>\n",
       "  <tbody>\n",
       "    <tr>\n",
       "      <th>0</th>\n",
       "      <td>1/3/2012</td>\n",
       "      <td>325.25</td>\n",
       "      <td>332.83</td>\n",
       "      <td>324.97</td>\n",
       "      <td>663.59</td>\n",
       "      <td>7,380,500</td>\n",
       "    </tr>\n",
       "    <tr>\n",
       "      <th>1</th>\n",
       "      <td>1/4/2012</td>\n",
       "      <td>331.27</td>\n",
       "      <td>333.87</td>\n",
       "      <td>329.08</td>\n",
       "      <td>666.45</td>\n",
       "      <td>5,749,400</td>\n",
       "    </tr>\n",
       "    <tr>\n",
       "      <th>2</th>\n",
       "      <td>1/5/2012</td>\n",
       "      <td>329.83</td>\n",
       "      <td>330.75</td>\n",
       "      <td>326.89</td>\n",
       "      <td>657.21</td>\n",
       "      <td>6,590,300</td>\n",
       "    </tr>\n",
       "    <tr>\n",
       "      <th>3</th>\n",
       "      <td>1/6/2012</td>\n",
       "      <td>328.34</td>\n",
       "      <td>328.77</td>\n",
       "      <td>323.68</td>\n",
       "      <td>648.24</td>\n",
       "      <td>5,405,900</td>\n",
       "    </tr>\n",
       "    <tr>\n",
       "      <th>4</th>\n",
       "      <td>1/9/2012</td>\n",
       "      <td>322.04</td>\n",
       "      <td>322.29</td>\n",
       "      <td>309.46</td>\n",
       "      <td>620.76</td>\n",
       "      <td>11,688,800</td>\n",
       "    </tr>\n",
       "  </tbody>\n",
       "</table>\n",
       "</div>"
      ],
      "text/plain": [
       "       Date    Open    High     Low   Close      Volume\n",
       "0  1/3/2012  325.25  332.83  324.97  663.59   7,380,500\n",
       "1  1/4/2012  331.27  333.87  329.08  666.45   5,749,400\n",
       "2  1/5/2012  329.83  330.75  326.89  657.21   6,590,300\n",
       "3  1/6/2012  328.34  328.77  323.68  648.24   5,405,900\n",
       "4  1/9/2012  322.04  322.29  309.46  620.76  11,688,800"
      ]
     },
     "execution_count": 5,
     "metadata": {},
     "output_type": "execute_result"
    }
   ],
   "source": [
    "data = pd.read_csv('Google_train_data.csv')\n",
    "data.head()"
   ]
  },
  {
   "cell_type": "code",
   "execution_count": 6,
   "id": "8f48f3bc",
   "metadata": {
    "scrolled": false
   },
   "outputs": [
    {
     "name": "stdout",
     "output_type": "stream",
     "text": [
      "<class 'pandas.core.frame.DataFrame'>\n",
      "RangeIndex: 1258 entries, 0 to 1257\n",
      "Data columns (total 6 columns):\n",
      " #   Column  Non-Null Count  Dtype  \n",
      "---  ------  --------------  -----  \n",
      " 0   Date    1258 non-null   object \n",
      " 1   Open    1258 non-null   float64\n",
      " 2   High    1258 non-null   float64\n",
      " 3   Low     1258 non-null   float64\n",
      " 4   Close   1258 non-null   object \n",
      " 5   Volume  1258 non-null   object \n",
      "dtypes: float64(3), object(3)\n",
      "memory usage: 59.1+ KB\n"
     ]
    }
   ],
   "source": [
    "data.info()"
   ]
  },
  {
   "cell_type": "code",
   "execution_count": 7,
   "id": "32a49963",
   "metadata": {},
   "outputs": [],
   "source": [
    "data[\"Close\"]=pd.to_numeric(data.Close,errors='coerce')"
   ]
  },
  {
   "cell_type": "code",
   "execution_count": 8,
   "id": "897cafdb",
   "metadata": {},
   "outputs": [],
   "source": [
    "data = data.dropna()"
   ]
  },
  {
   "cell_type": "code",
   "execution_count": 9,
   "id": "8c6302a1",
   "metadata": {},
   "outputs": [],
   "source": [
    "trainData = data.iloc[:,4:5].values"
   ]
  },
  {
   "cell_type": "code",
   "execution_count": 10,
   "id": "7774ddd4",
   "metadata": {},
   "outputs": [
    {
     "name": "stdout",
     "output_type": "stream",
     "text": [
      "<class 'pandas.core.frame.DataFrame'>\n",
      "Int64Index: 1149 entries, 0 to 1257\n",
      "Data columns (total 6 columns):\n",
      " #   Column  Non-Null Count  Dtype  \n",
      "---  ------  --------------  -----  \n",
      " 0   Date    1149 non-null   object \n",
      " 1   Open    1149 non-null   float64\n",
      " 2   High    1149 non-null   float64\n",
      " 3   Low     1149 non-null   float64\n",
      " 4   Close   1149 non-null   float64\n",
      " 5   Volume  1149 non-null   object \n",
      "dtypes: float64(4), object(2)\n",
      "memory usage: 62.8+ KB\n"
     ]
    }
   ],
   "source": [
    "data.info()"
   ]
  },
  {
   "cell_type": "code",
   "execution_count": 11,
   "id": "4935ba55",
   "metadata": {},
   "outputs": [],
   "source": [
    "sc = MinMaxScaler(feature_range=(0,1))"
   ]
  },
  {
   "cell_type": "code",
   "execution_count": 12,
   "id": "516c271d",
   "metadata": {},
   "outputs": [],
   "source": [
    "trainData = sc.fit_transform(trainData)"
   ]
  },
  {
   "cell_type": "code",
   "execution_count": 13,
   "id": "0b8d35b5",
   "metadata": {},
   "outputs": [
    {
     "data": {
      "text/plain": [
       "(1149, 1)"
      ]
     },
     "execution_count": 13,
     "metadata": {},
     "output_type": "execute_result"
    }
   ],
   "source": [
    "trainData.shape"
   ]
  },
  {
   "cell_type": "code",
   "execution_count": 14,
   "id": "4cbfdf6b",
   "metadata": {},
   "outputs": [],
   "source": [
    "X_train = []"
   ]
  },
  {
   "cell_type": "code",
   "execution_count": 15,
   "id": "1fe52fbd",
   "metadata": {},
   "outputs": [],
   "source": [
    "Y_train = []"
   ]
  },
  {
   "cell_type": "code",
   "execution_count": 16,
   "id": "e9f08c73",
   "metadata": {},
   "outputs": [],
   "source": [
    "for i in range (60,1149):\n",
    "    X_train.append(trainData[i-60:i,0])\n",
    "    Y_train.append(trainData[i,0])"
   ]
  },
  {
   "cell_type": "code",
   "execution_count": 17,
   "id": "4d4cb62e",
   "metadata": {},
   "outputs": [],
   "source": [
    "X_train,Y_train = np.array(X_train),np.array(Y_train)"
   ]
  },
  {
   "cell_type": "code",
   "execution_count": 18,
   "id": "0e65f29d",
   "metadata": {},
   "outputs": [
    {
     "data": {
      "text/plain": [
       "(1089, 60, 1)"
      ]
     },
     "execution_count": 18,
     "metadata": {},
     "output_type": "execute_result"
    }
   ],
   "source": [
    "X_train = np.reshape(X_train,(X_train.shape[0],X_train.shape[1],1)) #adding the batch_size axis\n",
    "X_train.shape"
   ]
  },
  {
   "cell_type": "code",
   "execution_count": 19,
   "id": "3789d78d",
   "metadata": {},
   "outputs": [],
   "source": [
    "model = Sequential()"
   ]
  },
  {
   "cell_type": "code",
   "execution_count": 20,
   "id": "43621912",
   "metadata": {},
   "outputs": [],
   "source": [
    "model.add(LSTM(units=100, return_sequences = True, input_shape =(X_train.shape[1],1)))\n",
    "model.add(Dropout(0.2))"
   ]
  },
  {
   "cell_type": "code",
   "execution_count": 21,
   "id": "f2697792",
   "metadata": {},
   "outputs": [],
   "source": [
    "model.add(LSTM(units=100, return_sequences = True))\n",
    "model.add(Dropout(0.2))"
   ]
  },
  {
   "cell_type": "code",
   "execution_count": 22,
   "id": "c9b71e3f",
   "metadata": {},
   "outputs": [],
   "source": [
    "model.add(LSTM(units=100, return_sequences = True))\n",
    "model.add(Dropout(0.2))"
   ]
  },
  {
   "cell_type": "code",
   "execution_count": 23,
   "id": "fc85cb10",
   "metadata": {},
   "outputs": [],
   "source": [
    "model.add(LSTM(units=100, return_sequences = False))\n",
    "model.add(Dropout(0.2))"
   ]
  },
  {
   "cell_type": "code",
   "execution_count": 24,
   "id": "5baff5e9",
   "metadata": {},
   "outputs": [],
   "source": [
    "model.add(Dense(units =1))"
   ]
  },
  {
   "cell_type": "code",
   "execution_count": 25,
   "id": "77afcbb3",
   "metadata": {},
   "outputs": [],
   "source": [
    "model.compile(optimizer='adam',loss=\"mean_squared_error\")"
   ]
  },
  {
   "cell_type": "code",
   "execution_count": 26,
   "id": "c2ab0707",
   "metadata": {},
   "outputs": [
    {
     "name": "stdout",
     "output_type": "stream",
     "text": [
      "Epoch 1/20\n",
      "35/35 - 35s - loss: 0.0457 - 35s/epoch - 998ms/step\n",
      "Epoch 2/20\n",
      "35/35 - 16s - loss: 0.0129 - 16s/epoch - 470ms/step\n",
      "Epoch 3/20\n",
      "35/35 - 17s - loss: 0.0135 - 17s/epoch - 488ms/step\n",
      "Epoch 4/20\n",
      "35/35 - 16s - loss: 0.0100 - 16s/epoch - 447ms/step\n",
      "Epoch 5/20\n",
      "35/35 - 15s - loss: 0.0107 - 15s/epoch - 428ms/step\n",
      "Epoch 6/20\n",
      "35/35 - 15s - loss: 0.0075 - 15s/epoch - 425ms/step\n",
      "Epoch 7/20\n",
      "35/35 - 15s - loss: 0.0075 - 15s/epoch - 427ms/step\n",
      "Epoch 8/20\n",
      "35/35 - 15s - loss: 0.0064 - 15s/epoch - 424ms/step\n",
      "Epoch 9/20\n",
      "35/35 - 15s - loss: 0.0066 - 15s/epoch - 426ms/step\n",
      "Epoch 10/20\n",
      "35/35 - 15s - loss: 0.0070 - 15s/epoch - 426ms/step\n",
      "Epoch 11/20\n",
      "35/35 - 15s - loss: 0.0061 - 15s/epoch - 426ms/step\n",
      "Epoch 12/20\n",
      "35/35 - 15s - loss: 0.0067 - 15s/epoch - 431ms/step\n",
      "Epoch 13/20\n",
      "35/35 - 16s - loss: 0.0063 - 16s/epoch - 447ms/step\n",
      "Epoch 14/20\n",
      "35/35 - 19s - loss: 0.0070 - 19s/epoch - 553ms/step\n",
      "Epoch 15/20\n",
      "35/35 - 15s - loss: 0.0061 - 15s/epoch - 431ms/step\n",
      "Epoch 16/20\n",
      "35/35 - 15s - loss: 0.0053 - 15s/epoch - 428ms/step\n",
      "Epoch 17/20\n",
      "35/35 - 15s - loss: 0.0063 - 15s/epoch - 437ms/step\n",
      "Epoch 18/20\n",
      "35/35 - 15s - loss: 0.0050 - 15s/epoch - 441ms/step\n",
      "Epoch 19/20\n",
      "35/35 - 15s - loss: 0.0051 - 15s/epoch - 434ms/step\n",
      "Epoch 20/20\n",
      "35/35 - 15s - loss: 0.0044 - 15s/epoch - 433ms/step\n"
     ]
    }
   ],
   "source": [
    "hist = model.fit(X_train, Y_train, epochs = 20, batch_size = 32, verbose=2)"
   ]
  },
  {
   "cell_type": "code",
   "execution_count": 27,
   "id": "40da2aa0",
   "metadata": {
    "scrolled": true
   },
   "outputs": [
    {
     "data": {
      "image/png": "[encoded data removed]",
      "text/plain": [
       "<Figure size 432x288 with 1 Axes>"
      ]
     },
     "metadata": {
      "needs_background": "light"
     },
     "output_type": "display_data"
    }
   ],
   "source": [
    "plt.plot(hist.history['loss'])\n",
    "plt.title('Training model loss')\n",
    "plt.ylabel('loss')\n",
    "plt.xlabel('epoch')\n",
    "plt.legend(['train'], loc='upper left')\n",
    "plt.show()"
   ]
  },
  {
   "cell_type": "code",
   "execution_count": 28,
   "id": "b5dcb50b",
   "metadata": {},
   "outputs": [],
   "source": [
    "testData = pd.read_csv('Google_test_data.csv')"
   ]
  },
  {
   "cell_type": "code",
   "execution_count": 29,
   "id": "f1528d79",
   "metadata": {},
   "outputs": [],
   "source": [
    "testData[\"Close\"]=pd.to_numeric(testData.Close,errors='coerce')\n",
    "testData = testData.dropna()\n",
    "testData = testData.iloc[:,4:5]\n",
    "Y_test = testData.iloc[60:,0:].values "
   ]
  },
  {
   "cell_type": "code",
   "execution_count": 30,
   "id": "22ac2eb3",
   "metadata": {},
   "outputs": [],
   "source": [
    "#input array for the model\n",
    "inputClosing = testData.iloc[:,0:].values \n",
    "inputClosing_scaled = sc.transform(inputClosing)"
   ]
  },
  {
   "cell_type": "code",
   "execution_count": 31,
   "id": "543bb047",
   "metadata": {},
   "outputs": [],
   "source": [
    "inputClosing_scaled.shape\n",
    "X_test = []"
   ]
  },
  {
   "cell_type": "code",
   "execution_count": 32,
   "id": "4a5670d5",
   "metadata": {},
   "outputs": [],
   "source": [
    "length = len(testData)\n",
    "timestep = 60"
   ]
  },
  {
   "cell_type": "code",
   "execution_count": 33,
   "id": "09e06d19",
   "metadata": {},
   "outputs": [],
   "source": [
    "for i in range(timestep,length):\n",
    "    X_test.append(inputClosing_scaled[i-timestep:i,0])"
   ]
  },
  {
   "cell_type": "code",
   "execution_count": 34,
   "id": "2becde7c",
   "metadata": {},
   "outputs": [],
   "source": [
    "X_test = np.array(X_test)"
   ]
  },
  {
   "cell_type": "code",
   "execution_count": 35,
   "id": "1cc76da6",
   "metadata": {},
   "outputs": [],
   "source": [
    "X_test = np.reshape(X_test,(X_test.shape[0],X_test.shape[1],1))"
   ]
  },
  {
   "cell_type": "code",
   "execution_count": 36,
   "id": "56beea0b",
   "metadata": {},
   "outputs": [
    {
     "data": {
      "text/plain": [
       "(192, 60, 1)"
      ]
     },
     "execution_count": 36,
     "metadata": {},
     "output_type": "execute_result"
    }
   ],
   "source": [
    "X_test.shape"
   ]
  },
  {
   "cell_type": "code",
   "execution_count": 37,
   "id": "6b1bfd43",
   "metadata": {},
   "outputs": [
    {
     "name": "stdout",
     "output_type": "stream",
     "text": [
      "6/6 [==============================] - 5s 148ms/step\n"
     ]
    },
    {
     "data": {
      "text/plain": [
       "array([[1.2080772],\n",
       "       [1.2121441],\n",
       "       [1.2241799],\n",
       "       [1.2420322],\n",
       "       [1.2574534],\n",
       "       [1.2601255],\n",
       "       [1.2491573],\n",
       "       [1.2314954],\n",
       "       [1.2183472],\n",
       "       [1.2131988],\n",
       "       [1.2060779],\n",
       "       [1.1952349],\n",
       "       [1.1851405],\n",
       "       [1.1757394],\n",
       "       [1.1729648],\n",
       "       [1.1768504],\n",
       "       [1.1939102],\n",
       "       [1.2219888],\n",
       "       [1.2553297],\n",
       "       [1.2893028],\n",
       "       [1.3061007],\n",
       "       [1.3059846],\n",
       "       [1.2874503],\n",
       "       [1.2579275],\n",
       "       [1.229143 ],\n",
       "       [1.2105824],\n",
       "       [1.2039595],\n",
       "       [1.2024118],\n",
       "       [1.1962048],\n",
       "       [1.1864208],\n",
       "       [1.1749536],\n",
       "       [1.161514 ],\n",
       "       [1.1416147],\n",
       "       [1.11664  ],\n",
       "       [1.1043864],\n",
       "       [1.111101 ],\n",
       "       [1.1315924],\n",
       "       [1.1572188],\n",
       "       [1.182817 ],\n",
       "       [1.1980141],\n",
       "       [1.2118514],\n",
       "       [1.2272087],\n",
       "       [1.244592 ],\n",
       "       [1.2611288],\n",
       "       [1.272967 ],\n",
       "       [1.2756711],\n",
       "       [1.2670406],\n",
       "       [1.2576101],\n",
       "       [1.2535464],\n",
       "       [1.2575817],\n",
       "       [1.2694236],\n",
       "       [1.2789766],\n",
       "       [1.2829138],\n",
       "       [1.2811472],\n",
       "       [1.2795279],\n",
       "       [1.2757431],\n",
       "       [1.2674805],\n",
       "       [1.2623724],\n",
       "       [1.2692254],\n",
       "       [1.285777 ],\n",
       "       [1.3110853],\n",
       "       [1.3424793],\n",
       "       [1.3665565],\n",
       "       [1.3737751],\n",
       "       [1.3643328],\n",
       "       [1.3446709],\n",
       "       [1.3284687],\n",
       "       [1.3208531],\n",
       "       [1.3216983],\n",
       "       [1.3260759],\n",
       "       [1.331649 ],\n",
       "       [1.3356491],\n",
       "       [1.3332826],\n",
       "       [1.3282073],\n",
       "       [1.3231533],\n",
       "       [1.320949 ],\n",
       "       [1.3221375],\n",
       "       [1.3265556],\n",
       "       [1.3375723],\n",
       "       [1.3548855],\n",
       "       [1.3777803],\n",
       "       [1.4006621],\n",
       "       [1.4152582],\n",
       "       [1.4191908],\n",
       "       [1.4226769],\n",
       "       [1.433303 ],\n",
       "       [1.4498326],\n",
       "       [1.4655213],\n",
       "       [1.4757737],\n",
       "       [1.4793531],\n",
       "       [1.481106 ],\n",
       "       [1.4892048],\n",
       "       [1.5049913],\n",
       "       [1.5174061],\n",
       "       [1.5186421],\n",
       "       [1.5074023],\n",
       "       [1.4857727],\n",
       "       [1.4592245],\n",
       "       [1.4354715],\n",
       "       [1.4242464],\n",
       "       [1.4276341],\n",
       "       [1.4425386],\n",
       "       [1.4647583],\n",
       "       [1.4860538],\n",
       "       [1.5006574],\n",
       "       [1.5055472],\n",
       "       [1.5036412],\n",
       "       [1.4989804],\n",
       "       [1.4975682],\n",
       "       [1.5010954],\n",
       "       [1.5093251],\n",
       "       [1.5217932],\n",
       "       [1.5353026],\n",
       "       [1.5498734],\n",
       "       [1.5673453],\n",
       "       [1.5827392],\n",
       "       [1.5948156],\n",
       "       [1.604844 ],\n",
       "       [1.6164514],\n",
       "       [1.6018107],\n",
       "       [1.5569727],\n",
       "       [1.4954743],\n",
       "       [1.4409922],\n",
       "       [1.4064339],\n",
       "       [1.389733 ],\n",
       "       [1.3845577],\n",
       "       [1.3852371],\n",
       "       [1.3891373],\n",
       "       [1.3866515],\n",
       "       [1.3744316],\n",
       "       [1.3672218],\n",
       "       [1.3736745],\n",
       "       [1.387758 ],\n",
       "       [1.3973511],\n",
       "       [1.4012263],\n",
       "       [1.4012703],\n",
       "       [1.3969666],\n",
       "       [1.3881824],\n",
       "       [1.3774447],\n",
       "       [1.3632311],\n",
       "       [1.3480126],\n",
       "       [1.3313953],\n",
       "       [1.2995703],\n",
       "       [1.2597985],\n",
       "       [1.2196792],\n",
       "       [1.1870683],\n",
       "       [1.1710067],\n",
       "       [1.1751395],\n",
       "       [1.194417 ],\n",
       "       [1.220287 ],\n",
       "       [1.247835 ],\n",
       "       [1.2716905],\n",
       "       [1.2903453],\n",
       "       [1.3055927],\n",
       "       [1.31729  ],\n",
       "       [1.3270401],\n",
       "       [1.3371751],\n",
       "       [1.3456188],\n",
       "       [1.3440279],\n",
       "       [1.3307195],\n",
       "       [1.3092974],\n",
       "       [1.2869954],\n",
       "       [1.2729012],\n",
       "       [1.2722813],\n",
       "       [1.2852781],\n",
       "       [1.3086349],\n",
       "       [1.3320082],\n",
       "       [1.3509501],\n",
       "       [1.3670938],\n",
       "       [1.3811908],\n",
       "       [1.3925648],\n",
       "       [1.4015433],\n",
       "       [1.4084976],\n",
       "       [1.4113758],\n",
       "       [1.4100729],\n",
       "       [1.4018778],\n",
       "       [1.3906332],\n",
       "       [1.3818473],\n",
       "       [1.3755248],\n",
       "       [1.3699976],\n",
       "       [1.3933765],\n",
       "       [1.4419198],\n",
       "       [1.4963552],\n",
       "       [1.538846 ],\n",
       "       [1.5601342],\n",
       "       [1.5577801],\n",
       "       [1.5281471],\n",
       "       [1.4868096],\n",
       "       [1.4484152],\n",
       "       [1.4287001],\n",
       "       [1.4246756],\n",
       "       [1.4270383]], dtype=float32)"
      ]
     },
     "execution_count": 37,
     "metadata": {},
     "output_type": "execute_result"
    }
   ],
   "source": [
    "Y_pred = model.predict(X_test)\n",
    "Y_pred"
   ]
  },
  {
   "cell_type": "code",
   "execution_count": 38,
   "id": "6baac6c7",
   "metadata": {},
   "outputs": [],
   "source": [
    "predicted_price = sc.inverse_transform(Y_pred)"
   ]
  },
  {
   "cell_type": "code",
   "execution_count": 39,
   "id": "3a659bff",
   "metadata": {},
   "outputs": [
    {
     "data": {
      "text/plain": [
       "[<matplotlib.lines.Line2D at 0x13690de9970>]"
      ]
     },
     "execution_count": 39,
     "metadata": {},
     "output_type": "execute_result"
    },
    {
     "data": {
      "image/png": "[encoded data removed]",
      "text/plain": [
       "<Figure size 432x288 with 1 Axes>"
      ]
     },
     "metadata": {
      "needs_background": "light"
     },
     "output_type": "display_data"
    }
   ],
   "source": [
    "plt.plot(Y_test, color = 'red', label = 'Actual Stock Price')"
   ]
  },
  {
   "cell_type": "code",
   "execution_count": 40,
   "id": "f749f757",
   "metadata": {},
   "outputs": [
    {
     "data": {
      "text/plain": [
       "[<matplotlib.lines.Line2D at 0x13690e5ccd0>]"
      ]
     },
     "execution_count": 40,
     "metadata": {},
     "output_type": "execute_result"
    },
    {
     "data": {
      "image/png": "[encoded data removed]",
      "text/plain": [
       "<Figure size 432x288 with 1 Axes>"
      ]
     },
     "metadata": {
      "needs_background": "light"
     },
     "output_type": "display_data"
    }
   ],
   "source": [
    "plt.plot(predicted_price, color = 'green', label = 'Predicted Stock Price')"
   ]
  },
  {
   "cell_type": "code",
   "execution_count": 41,
   "id": "679aa412",
   "metadata": {},
   "outputs": [
    {
     "data": {
      "image/png": "[encoded data removed]",
      "text/plain": [
       "<Figure size 432x288 with 1 Axes>"
      ]
     },
     "metadata": {
      "needs_background": "light"
     },
     "output_type": "display_data"
    }
   ],
   "source": [
    "plt.plot(Y_test, color = 'red', label = 'Actual Stock Price')\n",
    "plt.plot(predicted_price, color = 'green', label = 'Predicted Stock Price')\n",
    "plt.title('Google stock price prediction')\n",
    "plt.xlabel('Time')\n",
    "plt.ylabel('Stock Price')\n",
    "plt.legend()\n",
    "plt.show()"
   ]
  },
  {
   "cell_type": "code",
   "execution_count": null,
   "id": "38a720f4",
   "metadata": {},
   "outputs": [],
   "source": []
  },
  {
   "cell_type": "code",
   "execution_count": null,
   "id": "1f68b488",
   "metadata": {},
   "outputs": [],
   "source": []
  },
  {
   "cell_type": "code",
   "execution_count": null,
   "id": "f82c13f3",
   "metadata": {},
   "outputs": [],
   "source": []
  },
  {
   "cell_type": "code",
   "execution_count": null,
   "id": "9955006b",
   "metadata": {},
   "outputs": [],
   "source": []
  },
  {
   "cell_type": "code",
   "execution_count": null,
   "id": "dec58560",
   "metadata": {},
   "outputs": [],
   "source": []
  },
  {
   "cell_type": "raw",
   "id": "4a308525",
   "metadata": {},
   "source": []
  }
 ],
 "metadata": {
  "kernelspec": {
   "display_name": "Python 3 (ipykernel)",
   "language": "python",
   "name": "python3"
  },
  "language_info": {
   "codemirror_mode": {
    "name": "ipython",
    "version": 3
   },
   "file_extension": ".py",
   "mimetype": "text/x-python",
   "name": "python",
   "nbconvert_exporter": "python",
   "pygments_lexer": "ipython3",
   "version": "3.9.12"
  }
 },
 "nbformat": 4,
 "nbformat_minor": 5
}
